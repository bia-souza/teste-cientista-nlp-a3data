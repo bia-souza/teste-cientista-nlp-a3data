{
 "cells": [
  {
   "cell_type": "code",
   "execution_count": 1,
   "metadata": {},
   "outputs": [],
   "source": [
    "import streamlit as st\n",
    "import pandas as pd\n",
    "from frequent_topics import CommentsAnalyzer\n",
    "from recommendation import Recommender"
   ]
  },
  {
   "cell_type": "code",
   "execution_count": 2,
   "metadata": {},
   "outputs": [],
   "source": [
    "df = pd.read_csv(\"../data/churn_com_texto.csv\",delimiter=\",\", quotechar='\"', on_bad_lines=\"skip\")"
   ]
  },
  {
   "cell_type": "code",
   "execution_count": null,
   "metadata": {},
   "outputs": [],
   "source": [
    "df['Número de Reclamações'] = pd.to_numeric(df['Número de Reclamações'], errors='coerce')\n",
    "df = df.fillna(0)\n",
    "df = df.replace('-','0')\n",
    "df['Comentários'] = df['Comentários'].astype(str, errors='ignore')"
   ]
  },
  {
   "cell_type": "code",
   "execution_count": null,
   "metadata": {},
   "outputs": [],
   "source": [
    "recommender = Recommender(df)\n",
    "\n",
    "# Filtre os dados usando a função de recomendação da classe acima\n",
    "df = recommender.filter_complaints()"
   ]
  },
  {
   "cell_type": "code",
   "execution_count": 3,
   "metadata": {},
   "outputs": [
    {
     "name": "stderr",
     "output_type": "stream",
     "text": [
      "2023-08-17 14:05:43.339 \n",
      "  \u001b[33m\u001b[1mWarning:\u001b[0m to view this Streamlit app on a browser, run it with the following\n",
      "  command:\n",
      "\n",
      "    streamlit run C:\\Users\\uni30187\\AppData\\Local\\Packages\\PythonSoftwareFoundation.Python.3.10_qbz5n2kfra8p0\\LocalCache\\local-packages\\Python310\\site-packages\\ipykernel_launcher.py [ARGUMENTS]\n"
     ]
    }
   ],
   "source": [
    "# Tela inicial\n",
    "st.title(\"Análise de Propensão ao Churn\")\n",
    "\n",
    "# Seleção de Tipo de Serviço\n",
    "service_type = st.selectbox(\"Escolha um Tipo de Serviço:\", [\"Todos\", \"Telefonia Móvel\", \"Telefonia Fixa\", \"Internet\", \"TV a Cabo\"])\n",
    "if service_type != \"Todos\":\n",
    "    df = df[df['Tipo de Serviço'] == service_type]\n",
    "    df = df[['Nome','Idade','Localização','Data de Início do Contrato','Valor Mensal do Contrato','Número de Reclamações','Comentários']]"
   ]
  },
  {
   "cell_type": "code",
   "execution_count": 4,
   "metadata": {},
   "outputs": [],
   "source": [
    "# Visualização de Usuários Propensos ao Churn\n",
    "st.subheader(\"Usuários Propensos ao Churn\")\n",
    "st.write(df)"
   ]
  },
  {
   "cell_type": "code",
   "execution_count": 5,
   "metadata": {},
   "outputs": [],
   "source": [
    "# Analise os feedbacks usando a classe FeedbackAnalyzer\n",
    "analyzer = CommentsAnalyzer(df['Comentários'])\n",
    "\n",
    "# Visualização de Tópicos de Problemas\n",
    "st.subheader(\"Tópicos de Problemas\")\n",
    "if service_type == \"Todos\":\n",
    "    st.bar_chart(df['Tipo de Serviço'].value_counts())\n",
    "else:\n",
    "    keyword_frequencies = analyzer.get_keyword_frequencies(num_topics=5)\n",
    "    st.bar_chart(pd.Series(keyword_frequencies))"
   ]
  },
  {
   "cell_type": "code",
   "execution_count": null,
   "metadata": {},
   "outputs": [],
   "source": [
    "# Recomendações de Ação\n",
    "st.subheader(\"Recomendações de Ação\")\n",
    "text = recommender.generate_text(service_type)\n",
    "st.write(\"Aqui podem ser listadas recomendações baseadas nos feedbacks dos usuários.\")"
   ]
  }
 ],
 "metadata": {
  "kernelspec": {
   "display_name": "Python 3",
   "language": "python",
   "name": "python3"
  },
  "language_info": {
   "codemirror_mode": {
    "name": "ipython",
    "version": 3
   },
   "file_extension": ".py",
   "mimetype": "text/x-python",
   "name": "python",
   "nbconvert_exporter": "python",
   "pygments_lexer": "ipython3",
   "version": "3.10.11"
  },
  "orig_nbformat": 4
 },
 "nbformat": 4,
 "nbformat_minor": 2
}
